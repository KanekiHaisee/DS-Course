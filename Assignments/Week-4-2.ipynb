{
 "cells": [
  {
   "cell_type": "markdown",
   "metadata": {},
   "source": [
    "Q1. Explain Class and Object with respect to Object-Oriented Programming. Give a suitable example.\n",
    "Ans : A class behaves as a blueprint for creating objects. It defines the properties and methods of an object of that class will have. An object is an instance of that class. It has properties and behaviours as defined by its class."
   ]
  },
  {
   "cell_type": "code",
   "execution_count": 9,
   "metadata": {},
   "outputs": [
    {
     "name": "stdout",
     "output_type": "stream",
     "text": [
      "Toyota\n",
      "Camry\n",
      "2010\n",
      "0\n",
      "Toyota Camry was driven for 10 miles. Total mileage: 10\n"
     ]
    }
   ],
   "source": [
    "class Car:\n",
    "    def __init__(self, brand, model, year):\n",
    "        self.brand = brand\n",
    "        self.model = model\n",
    "        self.year = year\n",
    "        self.mileage = 0\n",
    "\n",
    "    def drive(self, miles):\n",
    "        self.mileage += miles\n",
    "        print(f\"{self.brand} {self.model} was driven for {miles} miles. Total mileage: {self.mileage}\")\n",
    "\n",
    "# Creating an object of the Car class\n",
    "my_car = Car('Toyota', 'Camry', 2010)\n",
    "\n",
    "# Accessing properties and methods of the object\n",
    "print(my_car.brand)  # Output: Toyota\n",
    "print(my_car.model)  # Output: Camry\n",
    "print(my_car.year)  # Output: 2010\n",
    "print(my_car.mileage)  # Output: 0\n",
    "\n",
    "my_car.drive(10)  # Output: Toyota Camry was driven for 10 miles. Total mileage: 10"
   ]
  },
  {
   "cell_type": "markdown",
   "metadata": {},
   "source": [
    "Q2. Name the four pillars of OOPs.<br>\n",
    "Ans : Abstraction / Encapsulation / Inheritence / Polymorphism"
   ]
  },
  {
   "cell_type": "markdown",
   "metadata": {},
   "source": [
    "Q3. Explain why the __init__() function is used. Give a suitable example.<br>\n",
    "Ans. It is a special method which is automatically called when an object is created from a class. (like a constructor)\n"
   ]
  },
  {
   "cell_type": "code",
   "execution_count": 10,
   "metadata": {},
   "outputs": [
    {
     "name": "stdout",
     "output_type": "stream",
     "text": [
      "John\n",
      "25\n"
     ]
    }
   ],
   "source": [
    "class Person:\n",
    "  def __init__(self, name, age):\n",
    "    self.name = name\n",
    "    self.age = age\n",
    "\n",
    "# Creating a new object from the Person class\n",
    "p = Person(\"John\", 25)\n",
    "\n",
    "# The object p now has the attributes name and age\n",
    "print(p.name) # Output: John\n",
    "print(p.age) # Output: 25"
   ]
  },
  {
   "cell_type": "markdown",
   "metadata": {},
   "source": [
    "Q4. Why self is used in OOPs?<br>\n",
    "Ans :  the self parameter is used to refer to the current instance of a class. It is a reference to the object itself, and it is used to access the attributes and methods of the object.\n"
   ]
  },
  {
   "cell_type": "markdown",
   "metadata": {},
   "source": [
    "Q5. What is inheritance? Give an example for each type of inheritance.<br>\n",
    "Ans : Inheritance is a mechanism that allows a new class to inherit the attributes and methods of an existing class. The new class is called the class or subclass, and the existing class is called the class or superclass."
   ]
  },
  {
   "cell_type": "markdown",
   "metadata": {},
   "source": [
    "SINGLE INHERITENCE :"
   ]
  },
  {
   "cell_type": "code",
   "execution_count": 11,
   "metadata": {},
   "outputs": [
    {
     "name": "stdout",
     "output_type": "stream",
     "text": [
      "Buddy\n",
      "Golden Retriever\n"
     ]
    }
   ],
   "source": [
    "class Animal:\n",
    "  def __init__(self, name):\n",
    "    self.name = name\n",
    "\n",
    "class Dog(Animal):\n",
    "  def __init__(self, name, breed):\n",
    "    super().__init__(name)\n",
    "    self.breed = breed\n",
    "\n",
    "# Creating a new object from the Dog class\n",
    "d = Dog(\"Buddy\", \"Golden Retriever\")\n",
    "\n",
    "# The object d has the attributes name and breed\n",
    "print(d.name) # Output: Buddy\n",
    "print(d.breed) # Output: Golden Retriever"
   ]
  },
  {
   "cell_type": "markdown",
   "metadata": {},
   "source": [
    "MULTIPLE INHERITENCE :"
   ]
  },
  {
   "cell_type": "code",
   "execution_count": 12,
   "metadata": {},
   "outputs": [
    {
     "name": "stdout",
     "output_type": "stream",
     "text": [
      "Buddy\n",
      "Golden Retriever\n",
      "John\n"
     ]
    }
   ],
   "source": [
    "class Animal:\n",
    "  def __init__(self, name):\n",
    "    self.name = name\n",
    "\n",
    "class Pet:\n",
    "  def __init__(self, name, owner):\n",
    "    self.name = name\n",
    "    self.owner = owner\n",
    "\n",
    "class Dog(Animal, Pet):\n",
    "  def __init__(self, name, breed, owner):\n",
    "    super().__init__(name)\n",
    "    Pet.__init__(self, name, owner)\n",
    "    self.breed = breed\n",
    "\n",
    "# Creating a new object from the Dog class\n",
    "d = Dog(\"Buddy\", \"Golden Retriever\", \"John\")\n",
    "\n",
    "# The object d has the attributes name, breed, and owner\n",
    "print(d.name) # Output: Buddy\n",
    "print(d.breed) # Output: Golden Retriever\n",
    "print(d.owner) # Output: John"
   ]
  },
  {
   "cell_type": "markdown",
   "metadata": {},
   "source": [
    "MULTI-LEVEL INHERITENCE :"
   ]
  },
  {
   "cell_type": "code",
   "execution_count": 13,
   "metadata": {},
   "outputs": [
    {
     "name": "stdout",
     "output_type": "stream",
     "text": [
      "Buddy\n",
      "Golden Retriever\n",
      "John\n"
     ]
    }
   ],
   "source": [
    "class Animal:\n",
    "  def __init__(self, name):\n",
    "    self.name = name\n",
    "\n",
    "class Pet(Animal):\n",
    "  def __init__(self, name, owner):\n",
    "    super().__init__(name)\n",
    "    self.owner = owner\n",
    "\n",
    "class Dog(Pet):\n",
    "  def __init__(self, name, breed, owner):\n",
    "    super().__init__(name, owner)\n",
    "    self.breed = breed\n",
    "\n",
    "# Creating a new object from the Dog class\n",
    "d = Dog(\"Buddy\", \"Golden Retriever\", \"John\")\n",
    "\n",
    "# The object d has the attributes name, breed, and owner\n",
    "print(d.name) # Output: Buddy\n",
    "print(d.breed) # Output: Golden Retriever\n",
    "print(d.owner) # Output: John"
   ]
  },
  {
   "cell_type": "markdown",
   "metadata": {},
   "source": [
    "HIERARCHICAL INHERITENCE :\n"
   ]
  },
  {
   "cell_type": "code",
   "execution_count": 14,
   "metadata": {},
   "outputs": [
    {
     "name": "stdout",
     "output_type": "stream",
     "text": [
      "Buddy\n",
      "Golden Retriever\n",
      "Whiskers\n",
      "Gray\n"
     ]
    }
   ],
   "source": [
    "class Animal:\n",
    "  def __init__(self, name):\n",
    "    self.name = name\n",
    "\n",
    "class Dog(Animal):\n",
    "  def __init__(self, name, breed):\n",
    "    super().__init__(name)\n",
    "    self.breed = breed\n",
    "\n",
    "class Cat(Animal):\n",
    "  def __init__(self, name, color):\n",
    "    super().__init__(name)\n",
    "    self.color = color\n",
    "\n",
    "# Creating a new object from the Dog class\n",
    "d = Dog(\"Buddy\", \"Golden Retriever\")\n",
    "\n",
    "# Creating a new object from the Cat class\n",
    "c = Cat(\"Whiskers\", \"Gray\")\n",
    "\n",
    "# The object d has the attributes name and breed\n",
    "print(d.name) # Output: Buddy\n",
    "print(d.breed) # Output: Golden Retriever\n",
    "\n",
    "# The object c has the attributes name and color\n",
    "print(c.name) # Output: Whiskers\n",
    "print(c.color) # Output: Gray"
   ]
  },
  {
   "cell_type": "markdown",
   "metadata": {},
   "source": [
    "HYBRID INHERITENCE :"
   ]
  },
  {
   "cell_type": "code",
   "execution_count": 15,
   "metadata": {},
   "outputs": [
    {
     "name": "stdout",
     "output_type": "stream",
     "text": [
      "Buddy\n",
      "Golden Retriever\n",
      "John\n",
      "Whiskers\n",
      "Gray\n",
      "Jane\n"
     ]
    }
   ],
   "source": [
    "class Animal:\n",
    "  def __init__(self, name):\n",
    "    self.name = name\n",
    "\n",
    "class Pet:\n",
    "  def __init__(self, name, owner):\n",
    "    self.name = name\n",
    "    self.owner = owner\n",
    "\n",
    "class Dog(Animal, Pet):\n",
    "  def __init__(self, name, breed, owner):\n",
    "    Animal.__init__(self, name)\n",
    "    Pet.__init__(self, name, owner)\n",
    "    self.breed = breed\n",
    "\n",
    "class Cat(Animal, Pet):\n",
    "  def __init__(self, name, color, owner):\n",
    "    Animal.__init__(self, name)\n",
    "    Pet.__init__(self, name, owner)\n",
    "    self.color = color\n",
    "\n",
    "# Creating a new object from the Dog class\n",
    "d = Dog(\"Buddy\", \"Golden Retriever\", \"John\")\n",
    "\n",
    "# Creating a new object from the Cat class\n",
    "c = Cat(\"Whiskers\", \"Gray\", \"Jane\")\n",
    "\n",
    "# The object d has the attributes name, breed, and owner\n",
    "print(d.name) # Output: Buddy\n",
    "print(d.breed) # Output: Golden Retriever\n",
    "print(d.owner) # Output: John\n",
    "\n",
    "# The object c has the attributes name, color, and owner\n",
    "print(c.name) # Output: Whiskers\n",
    "print(c.color) # Output: Gray\n",
    "print(c.owner) # Output: Jane"
   ]
  },
  {
   "cell_type": "code",
   "execution_count": null,
   "metadata": {},
   "outputs": [],
   "source": []
  }
 ],
 "metadata": {
  "kernelspec": {
   "display_name": "Python 3",
   "language": "python",
   "name": "python3"
  },
  "language_info": {
   "codemirror_mode": {
    "name": "ipython",
    "version": 3
   },
   "file_extension": ".py",
   "mimetype": "text/x-python",
   "name": "python",
   "nbconvert_exporter": "python",
   "pygments_lexer": "ipython3",
   "version": "3.9.13"
  }
 },
 "nbformat": 4,
 "nbformat_minor": 2
}
