{
 "cells": [
  {
   "cell_type": "code",
   "execution_count": 15,
   "metadata": {},
   "outputs": [],
   "source": [
    "class pwskills :\n",
    "\n",
    "    def student_details (self , name , email , number):\n",
    "        print(name , email , number)\n"
   ]
  },
  {
   "cell_type": "code",
   "execution_count": 16,
   "metadata": {},
   "outputs": [],
   "source": [
    "pw=pwskills()"
   ]
  },
  {
   "cell_type": "code",
   "execution_count": 17,
   "metadata": {},
   "outputs": [
    {
     "name": "stdout",
     "output_type": "stream",
     "text": [
      "DEVA deva@gmail.com 1234\n"
     ]
    }
   ],
   "source": [
    "pw.student_details(\"DEVA\" , \"deva@gmail.com\" , \"1234\")"
   ]
  },
  {
   "cell_type": "code",
   "execution_count": 18,
   "metadata": {},
   "outputs": [],
   "source": [
    "class pwskills1 :\n",
    "\n",
    "    def student_details (self , name , email , number):\n",
    "        print(name , email , number)\n",
    "    @staticmethod #similar to fxn created outside class no need to make obj\n",
    "    #utility fxn->used multiple times . Associated with class ki instance\n",
    "    def mentor_details (list_mentor):\n",
    "        print (list_mentor)\n",
    "\n",
    "    def mentor(self , mentor_list):\n",
    "        print(mentor_list) #Need to make 1 mentor fxn for eah frnd which is not effective as number of mentors are limited"
   ]
  },
  {
   "cell_type": "code",
   "execution_count": 19,
   "metadata": {},
   "outputs": [
    {
     "name": "stdout",
     "output_type": "stream",
     "text": [
      "['deva', 'shish']\n"
     ]
    }
   ],
   "source": [
    "pwskills1.mentor_details([\"deva\",\"shish\"])"
   ]
  },
  {
   "cell_type": "code",
   "execution_count": 20,
   "metadata": {},
   "outputs": [],
   "source": [
    "stud1=pwskills1()"
   ]
  },
  {
   "cell_type": "code",
   "execution_count": 21,
   "metadata": {},
   "outputs": [],
   "source": [
    "stud2=pwskills1()"
   ]
  },
  {
   "cell_type": "code",
   "execution_count": 22,
   "metadata": {},
   "outputs": [],
   "source": [
    "stud1=pwskills1()"
   ]
  },
  {
   "cell_type": "code",
   "execution_count": 23,
   "metadata": {},
   "outputs": [],
   "source": [
    "# need to make 1 lakh times...avoid making for mentor as it is limited"
   ]
  },
  {
   "cell_type": "code",
   "execution_count": 1,
   "metadata": {},
   "outputs": [],
   "source": [
    "class pwskills2 :\n",
    "\n",
    "    def student_details (self , name , email , number):\n",
    "        print(name , email , number)\n",
    "\n",
    "\n",
    "    @staticmethod\n",
    "    def mentor_id (mentor_id):\n",
    "        print (mentor_id)\n",
    "\n",
    "    @staticmethod #similar to fxn created outside class no need to make obj\n",
    "    #utility fxn->used multiple times . Associated with class ki instance\n",
    "    def mentor_details (list_mentor):\n",
    "        pwskills2.mentor_id([\"a@gmail.com\",\"b@gmail.com\"])\n",
    "        print (list_mentor)\n",
    "\n",
    "\n",
    "\n",
    "#STATIC METHOD INSIDE A CLASS METHOD / INSTANCE METHOD\n",
    "    @classmethod\n",
    "    def class_name(cls): #binds to class\n",
    "        cls.mentor_details([\"DEVA\",\"SHISH\"])\n",
    "\n",
    "\n",
    "    def mentor(self , mentor_list): #instance method\n",
    "        print(mentor_list) \n",
    "        #Need to make 1 mentor fxn for eah frnd which is not \n",
    "        #effective as number of mentors are limited\n",
    "\n",
    "        self.mentor_details([\"DEVA\",\"DEVA\"])"
   ]
  },
  {
   "cell_type": "code",
   "execution_count": 28,
   "metadata": {},
   "outputs": [
    {
     "name": "stdout",
     "output_type": "stream",
     "text": [
      "['DEVA', 'SHISH']\n"
     ]
    }
   ],
   "source": [
    "pwskills2.class_name()"
   ]
  },
  {
   "cell_type": "code",
   "execution_count": 34,
   "metadata": {},
   "outputs": [
    {
     "name": "stdout",
     "output_type": "stream",
     "text": [
      "['a@gmail.com', 'b@gmail.com']\n",
      "['deva', 'shish']\n"
     ]
    }
   ],
   "source": [
    "pwskills2.mentor_details([\"deva\",\"shish\"])"
   ]
  },
  {
   "cell_type": "code",
   "execution_count": 2,
   "metadata": {},
   "outputs": [],
   "source": [
    "pw=pwskills2()"
   ]
  },
  {
   "cell_type": "code",
   "execution_count": 3,
   "metadata": {},
   "outputs": [
    {
     "name": "stdout",
     "output_type": "stream",
     "text": [
      "['DEVA', 'deva']\n",
      "['a@gmail.com', 'b@gmail.com']\n",
      "['DEVA', 'DEVA']\n"
     ]
    }
   ],
   "source": [
    "pw.mentor([\"DEVA\",\"deva\"])"
   ]
  },
  {
   "cell_type": "code",
   "execution_count": null,
   "metadata": {},
   "outputs": [],
   "source": []
  }
 ],
 "metadata": {
  "kernelspec": {
   "display_name": "Python 3",
   "language": "python",
   "name": "python3"
  },
  "language_info": {
   "codemirror_mode": {
    "name": "ipython",
    "version": 3
   },
   "file_extension": ".py",
   "mimetype": "text/x-python",
   "name": "python",
   "nbconvert_exporter": "python",
   "pygments_lexer": "ipython3",
   "version": "3.9.13"
  }
 },
 "nbformat": 4,
 "nbformat_minor": 2
}
