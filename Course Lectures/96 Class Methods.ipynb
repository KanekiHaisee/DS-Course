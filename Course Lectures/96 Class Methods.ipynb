{
 "cells": [
  {
   "cell_type": "code",
   "execution_count": 2,
   "metadata": {},
   "outputs": [],
   "source": [
    "class deva :\n",
    "    def __init__(self,name,email): #data passed to constructor\n",
    "        self.name = name\n",
    "        self.email = email\n",
    "    \n",
    "    def student_details(self):\n",
    "        print(self.name,self.email)"
   ]
  },
  {
   "cell_type": "code",
   "execution_count": 3,
   "metadata": {},
   "outputs": [],
   "source": [
    "de=deva(\"DEVA\" , \"DEVA@gmail.com\")"
   ]
  },
  {
   "cell_type": "code",
   "execution_count": 4,
   "metadata": {},
   "outputs": [
    {
     "data": {
      "text/plain": [
       "'DEVA'"
      ]
     },
     "execution_count": 4,
     "metadata": {},
     "output_type": "execute_result"
    }
   ],
   "source": [
    "de.name"
   ]
  },
  {
   "cell_type": "code",
   "execution_count": 6,
   "metadata": {},
   "outputs": [
    {
     "data": {
      "text/plain": [
       "'DEVA@gmail.com'"
      ]
     },
     "execution_count": 6,
     "metadata": {},
     "output_type": "execute_result"
    }
   ],
   "source": [
    "de.email"
   ]
  },
  {
   "cell_type": "code",
   "execution_count": 7,
   "metadata": {},
   "outputs": [
    {
     "name": "stdout",
     "output_type": "stream",
     "text": [
      "DEVA DEVA@gmail.com\n"
     ]
    }
   ],
   "source": [
    "de.student_details()"
   ]
  },
  {
   "cell_type": "code",
   "execution_count": 8,
   "metadata": {},
   "outputs": [],
   "source": [
    "class deva1 :\n",
    "    def __init__(self,name,email): #data passed to constructor ->first make object\n",
    "        self.name = name\n",
    "        self.email = email\n",
    "    \n",
    "    @classmethod\n",
    "    def details(cls ,name , email ):#-> No need to make object\n",
    "        return cls(name , email)\n",
    "    \n",
    "    def student_details(self):\n",
    "        print(self.name,self.email)"
   ]
  },
  {
   "cell_type": "code",
   "execution_count": 11,
   "metadata": {},
   "outputs": [
    {
     "data": {
      "text/plain": [
       "<__main__.deva1 at 0x22ba04b8f40>"
      ]
     },
     "execution_count": 11,
     "metadata": {},
     "output_type": "execute_result"
    }
   ],
   "source": [
    "deva1.details(\"devashish\" , \"deva@gmail.com\") #without creating obj"
   ]
  },
  {
   "cell_type": "code",
   "execution_count": 12,
   "metadata": {},
   "outputs": [],
   "source": [
    "dev=deva1.details(\"devashish\" , \"deva@gmail.com\")"
   ]
  },
  {
   "cell_type": "code",
   "execution_count": 13,
   "metadata": {},
   "outputs": [
    {
     "data": {
      "text/plain": [
       "'devashish'"
      ]
     },
     "execution_count": 13,
     "metadata": {},
     "output_type": "execute_result"
    }
   ],
   "source": [
    "dev.name"
   ]
  },
  {
   "cell_type": "code",
   "execution_count": 28,
   "metadata": {},
   "outputs": [],
   "source": [
    "class deva2 :\n",
    "\n",
    "    mob_no=123456789 #Class Variable ->access it with the help of class name/\n",
    "\n",
    "\n",
    "    def __init__(self,name,email): #data passed to constructor ->first make object\n",
    "        self.name = name\n",
    "        self.email = email\n",
    "    \n",
    "    @classmethod #->Overloading init with the help of class method\n",
    "    def change_mobno(cls,mobile) :\n",
    "        deva2.mob_no=mobile\n",
    "    \n",
    "\n",
    "    @classmethod\n",
    "    def details(cls ,name , email ):#-> No need to make object\n",
    "        return cls(name , email)\n",
    "    \n",
    "    def student_details(self):\n",
    "        print(self.name,self.email,deva2.mob_no)"
   ]
  },
  {
   "cell_type": "code",
   "execution_count": 26,
   "metadata": {},
   "outputs": [],
   "source": [
    "de=deva2.details(\"rohan\",\"rohan@gmail.com\")"
   ]
  },
  {
   "cell_type": "code",
   "execution_count": 29,
   "metadata": {},
   "outputs": [
    {
     "name": "stdout",
     "output_type": "stream",
     "text": [
      "rohan rohan@gmail.com 123456789\n"
     ]
    }
   ],
   "source": [
    "de.student_details()"
   ]
  },
  {
   "cell_type": "code",
   "execution_count": 15,
   "metadata": {},
   "outputs": [
    {
     "data": {
      "text/plain": [
       "123456789"
      ]
     },
     "execution_count": 15,
     "metadata": {},
     "output_type": "execute_result"
    }
   ],
   "source": [
    "deva2.mob_no"
   ]
  },
  {
   "cell_type": "code",
   "execution_count": 21,
   "metadata": {},
   "outputs": [],
   "source": [
    "deva2.change_mobno(321)"
   ]
  },
  {
   "cell_type": "code",
   "execution_count": 22,
   "metadata": {},
   "outputs": [
    {
     "data": {
      "text/plain": [
       "321"
      ]
     },
     "execution_count": 22,
     "metadata": {},
     "output_type": "execute_result"
    }
   ],
   "source": [
    "deva2.mob_no"
   ]
  },
  {
   "cell_type": "code",
   "execution_count": 24,
   "metadata": {},
   "outputs": [],
   "source": [
    "de_obj=deva2(\"dev\",\"deva@kkk.com\")"
   ]
  },
  {
   "cell_type": "code",
   "execution_count": 25,
   "metadata": {},
   "outputs": [
    {
     "name": "stdout",
     "output_type": "stream",
     "text": [
      "dev deva@kkk.com 123456789\n"
     ]
    }
   ],
   "source": [
    "de_obj.student_details()"
   ]
  },
  {
   "cell_type": "code",
   "execution_count": 30,
   "metadata": {},
   "outputs": [],
   "source": [
    "class deva3 :\n",
    "\n",
    "    mob_no=123456789 #Class Variable ->access it with the help of class name/\n",
    "\n",
    "\n",
    "    def __init__(self,name,email): #data passed to constructor ->first make object\n",
    "        self.name = name\n",
    "        self.email = email\n",
    "    \n",
    "    @classmethod #->Overloading init with the help of class method\n",
    "    def change_mobno(cls,mobile) :\n",
    "        deva2.mob_no=mobile\n",
    "    \n",
    "\n",
    "    @classmethod\n",
    "    def details(cls ,name , email ):#-> No need to make object\n",
    "        return cls(name , email)\n",
    "    \n",
    "    def student_details(self):\n",
    "        print(self.name,self.email,deva2.mob_no)"
   ]
  },
  {
   "cell_type": "code",
   "execution_count": 31,
   "metadata": {},
   "outputs": [],
   "source": [
    "def course_details(cls , course_name): #add external functon as class method\n",
    "    print(\"Course name is : \", course_name)"
   ]
  },
  {
   "cell_type": "code",
   "execution_count": 32,
   "metadata": {},
   "outputs": [],
   "source": [
    "deva3.course_details=classmethod(course_details) #add"
   ]
  },
  {
   "cell_type": "code",
   "execution_count": 35,
   "metadata": {},
   "outputs": [
    {
     "name": "stdout",
     "output_type": "stream",
     "text": [
      "Course name is :  DSA\n"
     ]
    }
   ],
   "source": [
    "deva3.course_details(\"DSA\")"
   ]
  },
  {
   "cell_type": "code",
   "execution_count": 36,
   "metadata": {},
   "outputs": [],
   "source": [
    "def mentor(cls,list_of_mentor):\n",
    "    print(list_of_mentor)"
   ]
  },
  {
   "cell_type": "code",
   "execution_count": 37,
   "metadata": {},
   "outputs": [],
   "source": [
    "deva3.mentor=classmethod(mentor)"
   ]
  },
  {
   "cell_type": "code",
   "execution_count": 38,
   "metadata": {},
   "outputs": [
    {
     "name": "stdout",
     "output_type": "stream",
     "text": [
      "['DEVASHISH', 'DEVA', 'SHISH']\n"
     ]
    }
   ],
   "source": [
    "deva3.mentor([\"DEVASHISH\" , \"DEVA\" , \"SHISH\"])"
   ]
  },
  {
   "cell_type": "code",
   "execution_count": 39,
   "metadata": {},
   "outputs": [],
   "source": [
    "class deva4 :\n",
    "\n",
    "    mob_no=123456789 #Class Variable ->access it with the help of class name/\n",
    "\n",
    "\n",
    "    def __init__(self,name,email): #data passed to constructor ->first make object\n",
    "        self.name = name\n",
    "        self.email = email\n",
    "    \n",
    "    @classmethod #->Overloading init with the help of class method\n",
    "    def change_mobno(cls,mobile) :\n",
    "        deva2.mob_no=mobile\n",
    "    \n",
    "\n",
    "    @classmethod\n",
    "    def details(cls ,name , email ):#-> No need to make object\n",
    "        return cls(name , email)\n",
    "    \n",
    "    def student_details(self):\n",
    "        print(self.name,self.email,deva2.mob_no)"
   ]
  },
  {
   "cell_type": "code",
   "execution_count": 40,
   "metadata": {},
   "outputs": [],
   "source": [
    "#DELETE CLASS FUNCTION :\n",
    "del deva4.change_mobno"
   ]
  },
  {
   "cell_type": "code",
   "execution_count": 42,
   "metadata": {},
   "outputs": [],
   "source": [
    "#deva4.mob_no(12)"
   ]
  },
  {
   "cell_type": "code",
   "execution_count": 43,
   "metadata": {},
   "outputs": [],
   "source": [
    "delattr(deva4 , \"details\")"
   ]
  },
  {
   "cell_type": "code",
   "execution_count": 44,
   "metadata": {},
   "outputs": [],
   "source": [
    "delattr(deva4 , \"student_details\")"
   ]
  },
  {
   "cell_type": "code",
   "execution_count": 45,
   "metadata": {},
   "outputs": [],
   "source": [
    "delattr(deva4 , \"mob_no\")"
   ]
  },
  {
   "cell_type": "code",
   "execution_count": null,
   "metadata": {},
   "outputs": [],
   "source": []
  }
 ],
 "metadata": {
  "kernelspec": {
   "display_name": "Python 3",
   "language": "python",
   "name": "python3"
  },
  "language_info": {
   "codemirror_mode": {
    "name": "ipython",
    "version": 3
   },
   "file_extension": ".py",
   "mimetype": "text/x-python",
   "name": "python",
   "nbconvert_exporter": "python",
   "pygments_lexer": "ipython3",
   "version": "3.9.13"
  }
 },
 "nbformat": 4,
 "nbformat_minor": 2
}
